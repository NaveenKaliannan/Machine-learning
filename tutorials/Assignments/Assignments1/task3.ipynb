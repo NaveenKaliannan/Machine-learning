{
 "cells": [
  {
   "cell_type": "code",
   "execution_count": 11,
   "id": "e5ebe235-9594-4619-bdcb-98db689612b1",
   "metadata": {},
   "outputs": [],
   "source": [
    "import numpy as np\n",
    "import pandas as pd\n",
    "from matplotlib import pyplot\n",
    "import matplotlib.pyplot as plt\n",
    "from matplotlib.pyplot import figure\n",
    "import warnings\n",
    "\n",
    "warnings.filterwarnings('ignore')\n",
    "warnings.simplefilter('ignore')\n"
   ]
  },
  {
   "cell_type": "code",
   "execution_count": 12,
   "id": "e274a870-7c50-4069-8c93-bfc8e30d8a7f",
   "metadata": {},
   "outputs": [],
   "source": [
    "## Zeroadder\n",
    "def zeroadder(x):\n",
    "    x=int(x)\n",
    "    if(x < 10):\n",
    "        x = str('0')+ str(x)\n",
    "    return str(x)"
   ]
  },
  {
   "cell_type": "code",
   "execution_count": 13,
   "id": "18bdf9ce-c53a-436d-b778-7f7b19ccc220",
   "metadata": {},
   "outputs": [
    {
     "name": "stdout",
     "output_type": "stream",
     "text": [
      "         Date         Open         High          Low        Close  \\\n",
      "0  2000-01-03  1469.250000  1478.000000  1438.359985  1455.219971   \n",
      "1  2000-01-04  1455.219971  1455.219971  1397.430054  1399.420044   \n",
      "2  2000-01-05  1399.420044  1413.270020  1377.680054  1402.109985   \n",
      "3  2000-01-06  1402.109985  1411.900024  1392.099976  1403.449951   \n",
      "4  2000-01-07  1403.449951  1441.469971  1400.729980  1441.469971   \n",
      "\n",
      "     Adj Close      Volume  \n",
      "0  1455.219971   931800000  \n",
      "1  1399.420044  1009000000  \n",
      "2  1402.109985  1085500000  \n",
      "3  1403.449951  1092300000  \n",
      "4  1441.469971  1225200000  \n"
     ]
    }
   ],
   "source": [
    "## Reading the market data file\n",
    "df = pd.read_csv(\"https://raw.githubusercontent.com/NaveenKaliannan/Machine-learning/main/tutorials/Assignments/Assignments1/MarketData.csv\")    \n",
    "print(df.head())"
   ]
  },
  {
   "cell_type": "code",
   "execution_count": 14,
   "id": "ab133aca-7936-4d75-8271-e745a8e0ec8c",
   "metadata": {},
   "outputs": [],
   "source": [
    "## finding the days in each month\n",
    "years= [zeroadder(i) for i in range(int(min(set(pd.DatetimeIndex(df['Date']).year))), int(max(set(pd.DatetimeIndex(df['Date']).year)))+1, 1)]\n",
    "months= [zeroadder(i) for i in range(1, 13, 1)]\n",
    "yearmonths={i+'-'+j:[] for i in years for j in months}\n",
    "for i in yearmonths:\n",
    "    for k in range(1,32,1):\n",
    "        tmp=df.loc[df['Date'] == i+'-'+zeroadder(k)]            \n",
    "        if(len(tmp) != 0 ):\n",
    "            yearmonths[i].append(k)                    "
   ]
  },
  {
   "cell_type": "code",
   "execution_count": 15,
   "id": "81f3fca9-db8c-4dfd-9fdd-48f92d27f893",
   "metadata": {},
   "outputs": [
    {
     "name": "stdout",
     "output_type": "stream",
     "text": [
      "    Year-Month Month Monthinnumbers  Monthly-Return\n",
      "0      2000-01   Jan             01         -0.0418\n",
      "1      2000-02   Feb             02         -0.0304\n",
      "2      2000-03   Mar             03          0.0866\n",
      "3      2000-04   Apr             04         -0.0356\n",
      "4      2000-05   May             05         -0.0325\n",
      "..         ...   ...            ...             ...\n",
      "245    2020-06   Jun             06          0.0146\n",
      "246    2020-07   Jul             07          0.0498\n",
      "247    2020-08   Aug             08          0.0624\n",
      "248    2020-09   Sep             09         -0.0464\n",
      "249    2020-10   Oct             10          0.0305\n",
      "\n",
      "[250 rows x 4 columns]\n"
     ]
    }
   ],
   "source": [
    "## Calculating Monthly returns\n",
    "df['Date'] = pd.to_datetime(df['Date'])\n",
    "df['Month'] = df['Date'].dt.strftime('%b')\n",
    "mr={}\n",
    "df_mr = pd.DataFrame(columns=['Year-Month','Month','Monthinnumbers','Monthly-Return'])\n",
    "for i in yearmonths:\n",
    "    if(len(yearmonths[i])>0):\n",
    "        imax=max(yearmonths[i])\n",
    "        imin=min(yearmonths[i])\n",
    "        q1 = float(df['Close'].loc[df['Date'] == i+'-'+zeroadder(imax)])\n",
    "        q2 = float(df['Close'].loc[df['Date'] == i+'-'+zeroadder(imin)])\n",
    "        mr[i] = mr.get(i,round((q1/q2)-1.0,4))\n",
    "        mon=list(set(df['Month'].loc[df['Date'] == i+'-'+zeroadder(imin)]))\n",
    "        df_mr = df_mr.append({'Year-Month':  i,'Month': mon[0], 'Monthly-Return': round((q1/q2)-1.0,4), 'Monthinnumbers':i[-2]+i[-1] }, ignore_index=True)  \n",
    "print(df_mr)        "
   ]
  },
  {
   "cell_type": "code",
   "execution_count": 16,
   "id": "2bb3f51d-4eb5-483a-84d1-7fd8deb99862",
   "metadata": {},
   "outputs": [
    {
     "name": "stdout",
     "output_type": "stream",
     "text": [
      " Monthly Returns for Entire Dataset : \n",
      " Min = -0.1656,\n",
      " 25th-quantile = -0.0211,\n",
      " 50th-quantile = 0.00765,\n",
      " 75th-quantile = 0.0264,\n",
      " Max = 0.1789,\n",
      " Mean =0.0029216000000000008\n"
     ]
    },
    {
     "data": {
      "image/png": "[encoded data removed]",
      "text/plain": [
       "<Figure size 640x480 with 1 Axes>"
      ]
     },
     "metadata": {},
     "output_type": "display_data"
    },
    {
     "name": "stdout",
     "output_type": "stream",
     "text": [
      "Outliers = [-0.1656, -0.1137, -0.1095, 0.1385, 0.1402, -0.1636, 0.1789],\n",
      "Upper Bound = 0.10715,\n",
      "Lower Bound = -0.10185\n"
     ]
    }
   ],
   "source": [
    "## Finding outliers from the montly returns datset\n",
    "np_a = np.array(df_mr['Monthly-Return'])\n",
    "print(\" Monthly Returns for Entire Dataset : \\n Min = {},\\n 25th-quantile = {},\\n 50th-quantile = {},\\n 75th-quantile = {},\\n Max = {},\\n Mean ={}\"\n",
    "      .format(min(np_a), np.quantile(np_a, 0.25), np.quantile(np_a,0.5), np.quantile(np_a,0.75),  max(np_a),  np.mean(np_a)))\n",
    "\n",
    "q3, q1 = np.percentile(np_a, [75 ,25])\n",
    "iqr = q3 - q1\n",
    "\n",
    "red_square = dict(markerfacecolor='r', marker='s')\n",
    "fig1, ax1 = plt.subplots()\n",
    "ax1.set_title('Distribution of Monthly-Return (Whis = 1.7)')\n",
    "ax1.boxplot(np_a, vert=True, flierprops=red_square, whis=1.7)\n",
    "fig1.savefig(\"barplot.png\", format=\"png\")\n",
    "plt.show()\n",
    "\n",
    "## whis=1, 2.025σ 95 percent\n",
    "## whis=1.5, 2.7σ  99 percent\n",
    "## whis=1.7, 3σ  99.72 percent\n",
    "## whis=2, 3.375σ  99.99 percent\n",
    "\n",
    "outliers=[]\n",
    "whis=1.7\n",
    "Ubound=q3 + whis * iqr\n",
    "Lbound=q1 - whis * iqr \n",
    "for i in np_a:\n",
    "    if(i > Ubound or i < Lbound ):\n",
    "        outliers.append(i)\n",
    "print(\"Outliers = {},\\nUpper Bound = {},\\nLower Bound = {}\".format(outliers, Ubound, Lbound ) )\n",
    "\n"
   ]
  },
  {
   "cell_type": "code",
   "execution_count": 17,
   "id": "78182361-5ecc-4fbe-acea-304e264653c1",
   "metadata": {},
   "outputs": [
    {
     "name": "stdout",
     "output_type": "stream",
     "text": [
      "Shape b4 removing outliers =  (250, 4)\n",
      "Shape after removing outlier =  (243, 4)\n"
     ]
    }
   ],
   "source": [
    "## Removing outliers from the dataset\n",
    "print(\"Shape b4 removing outliers = \",df_mr.shape)\n",
    "df_mr = df_mr[(df_mr[\"Monthly-Return\"] < Ubound) & (df_mr[\"Monthly-Return\"] > Lbound)]\n",
    "print(\"Shape after removing outlier = \",df_mr.shape)\n",
    "\n",
    "for key, value in dict(mr).items():\n",
    "    if value in outliers:\n",
    "        del mr[key]\n",
    "\n"
   ]
  },
  {
   "cell_type": "code",
   "execution_count": 18,
   "id": "cb57c7a9-d3ff-4595-8a3d-7f684b40fc49",
   "metadata": {},
   "outputs": [
    {
     "data": {
      "image/png": "[encoded data removed]",
      "text/plain": [
       "<Figure size 640x480 with 1 Axes>"
      ]
     },
     "metadata": {},
     "output_type": "display_data"
    },
    {
     "name": "stdout",
     "output_type": "stream",
     "text": [
      "       Monthly-Return\n",
      "Month                \n",
      "Oct          0.014437\n",
      "Apr          0.013735\n",
      "Nov          0.011285\n",
      "Dec          0.008280\n",
      "Mar          0.007732\n",
      "Jul          0.006810\n",
      "Aug          0.001248\n",
      "May         -0.000210\n",
      "Jan         -0.001785\n",
      "Jun         -0.005105\n",
      "Feb         -0.005745\n",
      "Sep         -0.008048\n"
     ]
    }
   ],
   "source": [
    "## Finding the best and worst month to invest\n",
    "mr_max= max(mr.values())\n",
    "mr_min= min(mr.values())\n",
    "mrdate_max= ''\n",
    "mrdate_min= ''\n",
    "for k,v in mr.items():\n",
    "    if(mr_max==v):\n",
    "        mrdate_max= k\n",
    "    elif(mr_min==v):\n",
    "        mrdate_min= k\n",
    "\n",
    "plt.figure() \n",
    "gf_mon =df_mr.groupby('Month').mean().sort_values(by='Monthly-Return',ascending=False)\n",
    "maxmon=list(gf_mon.max())\n",
    "minmon=list(gf_mon.min())\n",
    "maxmon=maxmon[0]\n",
    "minmon=minmon[0]\n",
    "plt.scatter(list(df_mr.loc[df_mr[\"Month\"] == gf_mon.index[0]].index), list(df_mr[\"Monthly-Return\"].loc[df_mr[\"Month\"] == gf_mon.index[0]]), s = 35, marker=\"s\", label=\"Best month to invest - \" + gf_mon.index[0] )\n",
    "plt.scatter(list(df_mr.loc[df_mr[\"Month\"] == gf_mon.index[-1]].index), list(df_mr[\"Monthly-Return\"].loc[df_mr[\"Month\"] == gf_mon.index[-1]]), s = 35, marker=\"d\", label=\"Worst Month to invest - \" + gf_mon.index[-1] )\n",
    "plt.scatter(df_mr.index,df_mr['Monthly-Return'],s=4,label=\"All data\")\n",
    "plt.xticks(np.arange(1, 250, 12), np.arange(2000, 2021, 1), rotation='vertical')\n",
    "plt.xlabel('Time  (Months)')    \n",
    "plt.ylabel('Monthly Returns (arb. unit)')\n",
    "plt.legend(loc='best')\n",
    "plt.savefig(\"monthlyreturn.png\", format=\"png\")\n",
    "plt.show()\n",
    "\n",
    "\n",
    "def monthrating(rating):\n",
    "    if rating > 0.01:\n",
    "        return 'A_Strongprofit'\n",
    "    if rating > 0 and rating <= 0.01:\n",
    "        return 'B_Profit'\n",
    "    if rating == 0:\n",
    "        return 'C_NoGain'    \n",
    "    if  rating < 0:\n",
    "        return 'D_Loss'\n",
    "    \n",
    "gf_mon=gf_mon.sort_values(by=['Monthly-Return'], axis=0, ascending=False, inplace=False, kind='quicksort', na_position='last', ignore_index=False, key=None)\n",
    "print(gf_mon)    \n",
    "gf_mon=gf_mon.sort_values(by=['Month'], axis=0, ascending=True, inplace=False, kind='quicksort', na_position='last', ignore_index=False, key=None)\n",
    "gf_mon['Rating'] = gf_mon['Monthly-Return'].map(monthrating)\n"
   ]
  },
  {
   "cell_type": "code",
   "execution_count": 19,
   "id": "12f89fbc-61dd-44a6-b82e-2683f1154cde",
   "metadata": {},
   "outputs": [
    {
     "data": {
      "text/html": [
       "<div>\n",
       "<style scoped>\n",
       "    .dataframe tbody tr th:only-of-type {\n",
       "        vertical-align: middle;\n",
       "    }\n",
       "\n",
       "    .dataframe tbody tr th {\n",
       "        vertical-align: top;\n",
       "    }\n",
       "\n",
       "    .dataframe thead th {\n",
       "        text-align: right;\n",
       "    }\n",
       "</style>\n",
       "<table border=\"1\" class=\"dataframe\">\n",
       "  <thead>\n",
       "    <tr style=\"text-align: right;\">\n",
       "      <th></th>\n",
       "      <th>Month</th>\n",
       "      <th>Investment</th>\n",
       "    </tr>\n",
       "  </thead>\n",
       "  <tbody>\n",
       "    <tr>\n",
       "      <th>0</th>\n",
       "      <td>Apr</td>\n",
       "      <td>A_Strongprofit</td>\n",
       "    </tr>\n",
       "    <tr>\n",
       "      <th>1</th>\n",
       "      <td>Aug</td>\n",
       "      <td>D_Loss</td>\n",
       "    </tr>\n",
       "    <tr>\n",
       "      <th>2</th>\n",
       "      <td>Dec</td>\n",
       "      <td>B_Profit</td>\n",
       "    </tr>\n",
       "    <tr>\n",
       "      <th>3</th>\n",
       "      <td>Feb</td>\n",
       "      <td>D_Loss</td>\n",
       "    </tr>\n",
       "    <tr>\n",
       "      <th>4</th>\n",
       "      <td>Jan</td>\n",
       "      <td>D_Loss</td>\n",
       "    </tr>\n",
       "    <tr>\n",
       "      <th>5</th>\n",
       "      <td>Jul</td>\n",
       "      <td>D_Loss</td>\n",
       "    </tr>\n",
       "    <tr>\n",
       "      <th>6</th>\n",
       "      <td>Jun</td>\n",
       "      <td>D_Loss</td>\n",
       "    </tr>\n",
       "    <tr>\n",
       "      <th>7</th>\n",
       "      <td>Mar</td>\n",
       "      <td>B_Profit</td>\n",
       "    </tr>\n",
       "    <tr>\n",
       "      <th>8</th>\n",
       "      <td>May</td>\n",
       "      <td>D_Loss</td>\n",
       "    </tr>\n",
       "    <tr>\n",
       "      <th>9</th>\n",
       "      <td>Nov</td>\n",
       "      <td>A_Strongprofit</td>\n",
       "    </tr>\n",
       "    <tr>\n",
       "      <th>10</th>\n",
       "      <td>Oct</td>\n",
       "      <td>A_Strongprofit</td>\n",
       "    </tr>\n",
       "    <tr>\n",
       "      <th>11</th>\n",
       "      <td>Sep</td>\n",
       "      <td>D_Loss</td>\n",
       "    </tr>\n",
       "  </tbody>\n",
       "</table>\n",
       "</div>"
      ],
      "text/plain": [
       "   Month      Investment\n",
       "0    Apr  A_Strongprofit\n",
       "1    Aug          D_Loss\n",
       "2    Dec        B_Profit\n",
       "3    Feb          D_Loss\n",
       "4    Jan          D_Loss\n",
       "5    Jul          D_Loss\n",
       "6    Jun          D_Loss\n",
       "7    Mar        B_Profit\n",
       "8    May          D_Loss\n",
       "9    Nov  A_Strongprofit\n",
       "10   Oct  A_Strongprofit\n",
       "11   Sep          D_Loss"
      ]
     },
     "execution_count": 19,
     "metadata": {},
     "output_type": "execute_result"
    }
   ],
   "source": [
    "## Best Months to invest based on Decision Tree\n",
    "from sklearn import tree\n",
    "from sklearn.tree import DecisionTreeClassifier\n",
    "from sklearn import preprocessing\n",
    "\n",
    "\n",
    "def monthrating_qr(rating):\n",
    "    if rating > 0.02:\n",
    "        return 'A_Strongprofit'\n",
    "    if rating > 0:\n",
    "        return 'B_Profit'\n",
    "    if rating == 0:\n",
    "        return 'C_NoGain'    \n",
    "    if rating < 0:\n",
    "        return 'D_Loss'\n",
    "\n",
    "\n",
    "##df_mr = df_mr.sort_values(by=['Month'], axis=0, ascending=False, inplace=False, kind='quicksort', na_position='last', ignore_index=False, key=None)\n",
    "X =  np.array(df_mr['Month'])\n",
    "le = preprocessing.LabelEncoder()\n",
    "X_train=le.fit_transform(X)\n",
    "Y_train= np.array(df_mr['Monthly-Return'].map(monthrating_qr))\n",
    "model = DecisionTreeClassifier()\n",
    "model.fit(X_train.reshape(-1, 1), Y_train)\n",
    "Xtest=np.arange(0,12,1)\n",
    "predictions = model.predict(Xtest.reshape(-1, 1))\n",
    "df_decisiontree=pd.DataFrame({\"Month\":le.inverse_transform(Xtest), \"Investment\":predictions})\n",
    "df_decisiontree.sort_values(by=['Month'], axis=0, ascending=True, inplace=False, kind='quicksort', na_position='last', ignore_index=False, key=None)"
   ]
  },
  {
   "cell_type": "code",
   "execution_count": 20,
   "id": "1c55cb7e-866c-4132-9d80-79b84a49720f",
   "metadata": {},
   "outputs": [
    {
     "name": "stdout",
     "output_type": "stream",
     "text": [
      "                precision    recall  f1-score   support\n",
      "\n",
      "A_Strongprofit       1.00      1.00      1.00         3\n",
      "      B_Profit       1.00      0.50      0.67         4\n",
      "        D_Loss       0.71      1.00      0.83         5\n",
      "\n",
      "      accuracy                           0.83        12\n",
      "     macro avg       0.90      0.83      0.83        12\n",
      "  weighted avg       0.88      0.83      0.82        12\n",
      "\n",
      "[[3 0 0]\n",
      " [0 2 2]\n",
      " [0 0 5]]\n",
      "Accuracy of my model = 0.8333333333333334\n"
     ]
    }
   ],
   "source": [
    "## Error metrics\n",
    "from sklearn.metrics import classification_report\n",
    "from sklearn.metrics import confusion_matrix\n",
    "print(classification_report(gf_mon['Rating'], df_decisiontree['Investment']))\n",
    "print(confusion_matrix(gf_mon['Rating'], df_decisiontree['Investment']))\n",
    "\n",
    "from sklearn.metrics import accuracy_score\n",
    "y_true = gf_mon['Rating']\n",
    "y_predict = df_decisiontree['Investment']\n",
    "print(\"Accuracy of my model = {}\".format(accuracy_score(y_true, y_predict)))"
   ]
  },
  {
   "cell_type": "code",
   "execution_count": null,
   "id": "60652e0b-df93-43d2-ae92-d0d9e50675de",
   "metadata": {},
   "outputs": [],
   "source": []
  },
  {
   "cell_type": "code",
   "execution_count": null,
   "id": "6b1fe2e1-40f3-417d-86ee-e7222b06d714",
   "metadata": {},
   "outputs": [],
   "source": []
  },
  {
   "cell_type": "code",
   "execution_count": null,
   "id": "61736a9c-60f3-4c41-88af-5e2f09a8e3a0",
   "metadata": {},
   "outputs": [],
   "source": []
  },
  {
   "cell_type": "code",
   "execution_count": null,
   "id": "b2bc2032-e03f-43f5-900e-a03ca7eb91ea",
   "metadata": {},
   "outputs": [],
   "source": []
  },
  {
   "cell_type": "code",
   "execution_count": null,
   "id": "222881b6-f1cc-4881-aaf0-36fb83e3670e",
   "metadata": {},
   "outputs": [],
   "source": []
  },
  {
   "cell_type": "code",
   "execution_count": null,
   "id": "5b4f62a1-0af7-402b-b6f2-f95b02d708a7",
   "metadata": {},
   "outputs": [],
   "source": []
  },
  {
   "cell_type": "code",
   "execution_count": null,
   "id": "73a21ded-44cc-4522-a0f0-138b6ac31116",
   "metadata": {},
   "outputs": [],
   "source": []
  }
 ],
 "metadata": {
  "kernelspec": {
   "display_name": "Python 3",
   "language": "python",
   "name": "python3"
  },
  "language_info": {
   "codemirror_mode": {
    "name": "ipython",
    "version": 3
   },
   "file_extension": ".py",
   "mimetype": "text/x-python",
   "name": "python",
   "nbconvert_exporter": "python",
   "pygments_lexer": "ipython3",
   "version": "3.7.8"
  }
 },
 "nbformat": 4,
 "nbformat_minor": 5
}
